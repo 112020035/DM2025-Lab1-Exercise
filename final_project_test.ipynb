{
 "cells": [
  {
   "cell_type": "code",
   "execution_count": 56,
   "id": "61c27b96",
   "metadata": {},
   "outputs": [
    {
     "name": "stdout",
     "output_type": "stream",
     "text": [
      "Note: you may need to restart the kernel to use updated packages.\n"
     ]
    },
    {
     "name": "stderr",
     "output_type": "stream",
     "text": [
      "c:\\Users\\jxoxa\\DataMiningLab\\DM2025Labs\\DM2025-Lab1-Exercise\\.venv\\Scripts\\python.exe: No module named pip\n"
     ]
    }
   ],
   "source": [
    "pip install pandas==2.0.0 scikit-learn==1.3.2"
   ]
  },
  {
   "cell_type": "code",
   "execution_count": 57,
   "id": "2a1573e0",
   "metadata": {},
   "outputs": [
    {
     "name": "stderr",
     "output_type": "stream",
     "text": [
      "[nltk_data] Error loading punkt: <urlopen error [Errno 11001]\n",
      "[nltk_data]     getaddrinfo failed>\n"
     ]
    }
   ],
   "source": [
    "# test code for environment setup\n",
    "import pandas as pd\n",
    "import numpy as np\n",
    "import nltk\n",
    "nltk.download('punkt')\n",
    "from sklearn.feature_extraction.text import CountVectorizer\n",
    "import plotly as py\n",
    "import math\n",
    "import PAMI\n",
    "import umap\n",
    "import plotly.express as px"
   ]
  },
  {
   "cell_type": "code",
   "execution_count": 58,
   "id": "a608c525",
   "metadata": {},
   "outputs": [
    {
     "name": "stdout",
     "output_type": "stream",
     "text": [
      "(4435890, 10)\n"
     ]
    },
    {
     "data": {
      "text/html": [
       "<div>\n",
       "<style scoped>\n",
       "    .dataframe tbody tr th:only-of-type {\n",
       "        vertical-align: middle;\n",
       "    }\n",
       "\n",
       "    .dataframe tbody tr th {\n",
       "        vertical-align: top;\n",
       "    }\n",
       "\n",
       "    .dataframe thead th {\n",
       "        text-align: right;\n",
       "    }\n",
       "</style>\n",
       "<table border=\"1\" class=\"dataframe\">\n",
       "  <thead>\n",
       "    <tr style=\"text-align: right;\">\n",
       "      <th></th>\n",
       "      <th>from_acct</th>\n",
       "      <th>from_acct_type</th>\n",
       "      <th>to_acct</th>\n",
       "      <th>to_acct_type</th>\n",
       "      <th>is_self_txn</th>\n",
       "      <th>txn_amt</th>\n",
       "      <th>txn_date</th>\n",
       "      <th>txn_time</th>\n",
       "      <th>currency_type</th>\n",
       "      <th>channel_type</th>\n",
       "    </tr>\n",
       "  </thead>\n",
       "  <tbody>\n",
       "    <tr>\n",
       "      <th>0</th>\n",
       "      <td>be6fdd2d0f9aa02b0b09436fb137654942e3346e16ab43...</td>\n",
       "      <td>1</td>\n",
       "      <td>7abb16ac9bddc1f464981131ba68506775a964df2e0734...</td>\n",
       "      <td>1</td>\n",
       "      <td>N</td>\n",
       "      <td>47500.0</td>\n",
       "      <td>71</td>\n",
       "      <td>05:05:00</td>\n",
       "      <td>TWD</td>\n",
       "      <td>04</td>\n",
       "    </tr>\n",
       "    <tr>\n",
       "      <th>1</th>\n",
       "      <td>18f3d0e79217f8bc8b4cb485f9f80a884771b846de652f...</td>\n",
       "      <td>1</td>\n",
       "      <td>e77e425fb5f3ece7a7b431b3c43cc1d040f3054e35479d...</td>\n",
       "      <td>2</td>\n",
       "      <td>UNK</td>\n",
       "      <td>6150.0</td>\n",
       "      <td>31</td>\n",
       "      <td>20:55:00</td>\n",
       "      <td>TWD</td>\n",
       "      <td>03</td>\n",
       "    </tr>\n",
       "    <tr>\n",
       "      <th>2</th>\n",
       "      <td>302f3911cbf56bf9b5ad209a4b045a82380f98d92604c1...</td>\n",
       "      <td>1</td>\n",
       "      <td>4a707a0af2aa824777082803013610090033104c308023...</td>\n",
       "      <td>1</td>\n",
       "      <td>N</td>\n",
       "      <td>1150000.0</td>\n",
       "      <td>37</td>\n",
       "      <td>09:20:00</td>\n",
       "      <td>TWD</td>\n",
       "      <td>04</td>\n",
       "    </tr>\n",
       "    <tr>\n",
       "      <th>3</th>\n",
       "      <td>5a4809796865b1526f46e5dda6a35c1a4def3cbe969cc8...</td>\n",
       "      <td>1</td>\n",
       "      <td>d16b1bf33802f020b508002755c13aad549bc59dde7aae...</td>\n",
       "      <td>2</td>\n",
       "      <td>UNK</td>\n",
       "      <td>8550.0</td>\n",
       "      <td>106</td>\n",
       "      <td>13:40:00</td>\n",
       "      <td>TWD</td>\n",
       "      <td>04</td>\n",
       "    </tr>\n",
       "    <tr>\n",
       "      <th>4</th>\n",
       "      <td>7f84214987bdee16ffbaf3d70824e6385ce80e032a24c5...</td>\n",
       "      <td>1</td>\n",
       "      <td>c2e0f75b54f394b29755779ab9a488931e9d893a0e5f8f...</td>\n",
       "      <td>1</td>\n",
       "      <td>N</td>\n",
       "      <td>1450.0</td>\n",
       "      <td>84</td>\n",
       "      <td>11:20:00</td>\n",
       "      <td>TWD</td>\n",
       "      <td>03</td>\n",
       "    </tr>\n",
       "  </tbody>\n",
       "</table>\n",
       "</div>"
      ],
      "text/plain": [
       "                                           from_acct  from_acct_type  \\\n",
       "0  be6fdd2d0f9aa02b0b09436fb137654942e3346e16ab43...               1   \n",
       "1  18f3d0e79217f8bc8b4cb485f9f80a884771b846de652f...               1   \n",
       "2  302f3911cbf56bf9b5ad209a4b045a82380f98d92604c1...               1   \n",
       "3  5a4809796865b1526f46e5dda6a35c1a4def3cbe969cc8...               1   \n",
       "4  7f84214987bdee16ffbaf3d70824e6385ce80e032a24c5...               1   \n",
       "\n",
       "                                             to_acct  to_acct_type  \\\n",
       "0  7abb16ac9bddc1f464981131ba68506775a964df2e0734...             1   \n",
       "1  e77e425fb5f3ece7a7b431b3c43cc1d040f3054e35479d...             2   \n",
       "2  4a707a0af2aa824777082803013610090033104c308023...             1   \n",
       "3  d16b1bf33802f020b508002755c13aad549bc59dde7aae...             2   \n",
       "4  c2e0f75b54f394b29755779ab9a488931e9d893a0e5f8f...             1   \n",
       "\n",
       "  is_self_txn    txn_amt  txn_date  txn_time currency_type channel_type  \n",
       "0           N    47500.0        71  05:05:00           TWD           04  \n",
       "1         UNK     6150.0        31  20:55:00           TWD           03  \n",
       "2           N  1150000.0        37  09:20:00           TWD           04  \n",
       "3         UNK     8550.0       106  13:40:00           TWD           04  \n",
       "4           N     1450.0        84  11:20:00           TWD           03  "
      ]
     },
     "execution_count": 58,
     "metadata": {},
     "output_type": "execute_result"
    }
   ],
   "source": [
    "import pandas as pd\n",
    "X = pd.read_csv(\"初賽資料/初賽資料/acct_transaction.csv\")\n",
    "# 查看資料大小\n",
    "print(X.shape)\n",
    "# 查看前五項\n",
    "X.head(5)"
   ]
  },
  {
   "cell_type": "code",
   "execution_count": 59,
   "id": "7b634eb2",
   "metadata": {},
   "outputs": [
    {
     "name": "stdout",
     "output_type": "stream",
     "text": [
      "72355\n"
     ]
    },
    {
     "data": {
      "text/html": [
       "<div>\n",
       "<style scoped>\n",
       "    .dataframe tbody tr th:only-of-type {\n",
       "        vertical-align: middle;\n",
       "    }\n",
       "\n",
       "    .dataframe tbody tr th {\n",
       "        vertical-align: top;\n",
       "    }\n",
       "\n",
       "    .dataframe thead th {\n",
       "        text-align: right;\n",
       "    }\n",
       "</style>\n",
       "<table border=\"1\" class=\"dataframe\">\n",
       "  <thead>\n",
       "    <tr style=\"text-align: right;\">\n",
       "      <th></th>\n",
       "      <th>from_acct</th>\n",
       "      <th>from_acct_type</th>\n",
       "      <th>to_acct</th>\n",
       "      <th>to_acct_type</th>\n",
       "      <th>is_self_txn</th>\n",
       "      <th>txn_amt</th>\n",
       "      <th>txn_date</th>\n",
       "      <th>txn_time</th>\n",
       "      <th>currency_type</th>\n",
       "      <th>channel_type</th>\n",
       "    </tr>\n",
       "  </thead>\n",
       "  <tbody>\n",
       "    <tr>\n",
       "      <th>0</th>\n",
       "      <td>The amoung of missing records is:</td>\n",
       "      <td>The amoung of missing records is:</td>\n",
       "      <td>The amoung of missing records is:</td>\n",
       "      <td>The amoung of missing records is:</td>\n",
       "      <td>The amoung of missing records is:</td>\n",
       "      <td>The amoung of missing records is:</td>\n",
       "      <td>The amoung of missing records is:</td>\n",
       "      <td>The amoung of missing records is:</td>\n",
       "      <td>The amoung of missing records is:</td>\n",
       "      <td>The amoung of missing records is:</td>\n",
       "    </tr>\n",
       "    <tr>\n",
       "      <th>1</th>\n",
       "      <td>0</td>\n",
       "      <td>0</td>\n",
       "      <td>0</td>\n",
       "      <td>0</td>\n",
       "      <td>0</td>\n",
       "      <td>0</td>\n",
       "      <td>0</td>\n",
       "      <td>0</td>\n",
       "      <td>0</td>\n",
       "      <td>0</td>\n",
       "    </tr>\n",
       "  </tbody>\n",
       "</table>\n",
       "</div>"
      ],
      "text/plain": [
       "                            from_acct                      from_acct_type  \\\n",
       "0  The amoung of missing records is:   The amoung of missing records is:    \n",
       "1                                   0                                   0   \n",
       "\n",
       "                              to_acct                        to_acct_type  \\\n",
       "0  The amoung of missing records is:   The amoung of missing records is:    \n",
       "1                                   0                                   0   \n",
       "\n",
       "                          is_self_txn                             txn_amt  \\\n",
       "0  The amoung of missing records is:   The amoung of missing records is:    \n",
       "1                                   0                                   0   \n",
       "\n",
       "                             txn_date                            txn_time  \\\n",
       "0  The amoung of missing records is:   The amoung of missing records is:    \n",
       "1                                   0                                   0   \n",
       "\n",
       "                        currency_type                        channel_type  \n",
       "0  The amoung of missing records is:   The amoung of missing records is:   \n",
       "1                                   0                                   0  "
      ]
     },
     "execution_count": 59,
     "metadata": {},
     "output_type": "execute_result"
    }
   ],
   "source": [
    "import helpers.data_mining_helpers as dmh\n",
    "# 查看有沒有重複的資料\n",
    "print(sum(X.duplicated()))\n",
    "# 查看有沒有遺失的資料\n",
    "X.isnull().apply(lambda x: dmh.check_missing_values(x))"
   ]
  },
  {
   "cell_type": "code",
   "execution_count": 60,
   "id": "a3b70ab0",
   "metadata": {},
   "outputs": [
    {
     "name": "stdout",
     "output_type": "stream",
     "text": [
      "0\n"
     ]
    },
    {
     "data": {
      "text/plain": [
       "4294400"
      ]
     },
     "execution_count": 60,
     "metadata": {},
     "output_type": "execute_result"
    }
   ],
   "source": [
    "X.drop_duplicates(keep=False, inplace=True)\n",
    "print(sum(X.duplicated()))\n",
    "len(X)"
   ]
  },
  {
   "cell_type": "markdown",
   "id": "ba218e53",
   "metadata": {},
   "source": [
    "### 3. **處理異常值 (Outliers)**\n",
    "\n",
    "* **`txn_amt`（交易金額）**：這是一個數值型欄位，可能會有極端值（例如非常大的交易金額或極小的金額），這些異常值可能會對模型訓練造成影響。你可以根據箱型圖（Boxplot）或Z分數來識別異常值。如果發現有極端的金額，可以根據業務邏輯進行處理，例如：\n",
    "\n",
    "  * 去除極端值（比如交易金額超過某個合理範圍）。\n",
    "  * 或者將異常值限制在一定範圍內，這樣能夠保留有效的數據。\n",
    "\n",
    "### 4. **特徵縮放 (Feature Scaling)**\n",
    "\n",
    "* **`txn_amt`（交易金額）** 和 **`txn_time`（交易時間）**：這些數值型欄位應進行縮放，因為不同數據的範圍可能差異較大，會對某些機器學習算法（如KNN、SVM、神經網絡等）造成影響。\n",
    "\n",
    "  * **`txn_amt`**：可以使用 **標準化（Standardization）** 或 **歸一化（Normalization）** 來處理。\n",
    "  * **`txn_time`**：如果數據的範圍很大，可以使用 **標準化** 來處理，或者如果這個欄位是表示具體時間點，也可以根據需求進行適當處理（例如按日、月來劃分）。\n",
    "\n",
    "### 5. **類別特徵處理 (Categorical Data Encoding)**\n",
    "\n",
    "你的資料中有多個類別型欄位，如 `from_acct`、`from_acct_type`、`to_acct_type` 等。這些類別型特徵需要轉換成數值型數據，才能被機器學習算法使用。以下是常見的處理方法：\n",
    "\n",
    "* **`from_acct` 和 `to_acct`（匯款帳戶與收款帳戶）**：可以使用 **標籤編碼（Label Encoding）**，將每個帳戶類型映射為數字（例如，1表示某一帳戶，2表示另一帳戶）。不過，這些類別如果有順序性，標籤編碼是合適的。如果沒有順序性，可以使用 **獨熱編碼（One-Hot Encoding）**。\n",
    "* **`from_acct_type` 和 `to_acct_type`（帳戶是否為玉山帳戶）**：可以直接使用 **標籤編碼**，將`01`轉換為1，`02`轉換為0，這樣處理後可以作為數值特徵使用。\n",
    "* **`is_self_txn`（交易雙方是否為同一人）**：這是一個二分類欄位，使用 **標籤編碼（Label Encoding）** 將 \"Y\" 轉換為 1，\"N\" 轉換為 0，\"UNK\" 可以轉換為 -1 或直接刪除。\n",
    "\n",
    "### 6. **特徵工程 (Feature Engineering)**\n",
    "\n",
    "* **`txn_date`（交易日期）**：這是日期型欄位，可以提取出更多特徵，例如：\n",
    "\n",
    "  * **年、月、日**：根據需要提取交易的年份、月份和日期。\n",
    "  * **工作日/週末**：根據日期判斷該交易是否發生在工作日或週末，這對分析可能有價值。\n",
    "  * **季度**：提取季度特徵（如Q1, Q2等）可能有助於發現某些周期性的模式。\n",
    "  * **是否假日**：如果有假日信息，可以判斷該交易是否發生在假日。\n",
    "* **`txn_time`（交易時間）**：如果時間包含的是小時和分鐘，可以提取出是否是早上/下午、是否高峰時間（例如早高峰、晚高峰）等信息。\n",
    "\n",
    "### 7. **資料格式轉換 (Data Type Conversion)**\n",
    "\n",
    "* **`txn_date`（交易日期）**：這是一個類別型欄位，應該轉換為日期型數據（如 `datetime` 格式），以便進行時間序列分析或提取更多日期特徵。\n",
    "* **`txn_time`（交易時間）**：如果這是以數值型呈現（如秒數或分鐘數），你可以考慮將其轉換為時間型數據，或根據需要進行處理（例如，轉換為小時/分鐘等形式）。\n",
    "\n",
    "### 8. **處理不平衡的數據 (Handling Imbalanced Data)**\n",
    "\n",
    "* 假如你的目標變量（未顯示的）存在類別不平衡的情況，例如有些類別出現的次數比其他類別多很多，可以使用以下方法：\n",
    "\n",
    "  * **過採樣（Over-sampling）**：對少數類別進行過採樣，例如使用 SMOTE（合成少數類樣本技術）來生成更多的少數類樣本。\n",
    "  * **欠採樣（Under-sampling）**：減少多數類別的樣本數。\n",
    "  * **類別加權**：在模型中為少數類別設置更高的權重，使其在訓練過程中更加受到重視。\n",
    "\n",
    "### 9. **數據拆分 (Data Splitting)**\n",
    "\n",
    "* **訓練集與測試集拆分**：將資料集劃分為訓練集和測試集，一般比例是 70% 訓練集，30% 測試集，或者 80% 訓練集，20% 測試集。\n",
    "* **交叉驗證**：在模型訓練時，使用 **K-fold交叉驗證** 來避免過擬合並提高模型的穩健性。這樣你可以用不同的資料子集訓練和驗證模型，提高模型泛化能力。\n",
    "\n",
    "### 10. **數據增強 (Data Augmentation)**\n",
    "\n",
    "* **對於數值型資料**：通常數值型資料（如交易金額和交易時間）並不需要增強處理，除非是用於特殊的時間序列模型或者在數據量不足時。\n",
    "* **對於類別型資料**：如果有大量的類別型資料並且數據量較少，增強方法可能不常見。可以通過結合不同的類別特徵來生成新的特徵（如 `from_acct` 和 `to_acct` 的組合）來進行增強。\n"
   ]
  },
  {
   "cell_type": "code",
   "execution_count": 61,
   "id": "267f41f4",
   "metadata": {},
   "outputs": [
    {
     "data": {
      "image/png": "[encoded data removed]",
      "text/plain": [
       "<Figure size 640x480 with 1 Axes>"
      ]
     },
     "metadata": {},
     "output_type": "display_data"
    }
   ],
   "source": [
    "import seaborn as sns\n",
    "import matplotlib.pyplot as plt\n",
    "\n",
    "sns.boxplot(x=X['txn_amt'])\n",
    "plt.title('money')\n",
    "plt.show()"
   ]
  },
  {
   "cell_type": "code",
   "execution_count": 62,
   "id": "c5f69387",
   "metadata": {},
   "outputs": [
    {
     "data": {
      "image/png": "[encoded data removed]",
      "text/plain": [
       "<Figure size 640x480 with 1 Axes>"
      ]
     },
     "metadata": {},
     "output_type": "display_data"
    }
   ],
   "source": [
    "X['txn_amt'].hist(bins=100)\n",
    "plt.title('money distribution')\n",
    "plt.xlabel('money')\n",
    "plt.ylabel('event')\n",
    "plt.show()"
   ]
  },
  {
   "cell_type": "code",
   "execution_count": 63,
   "id": "f336bb1f",
   "metadata": {},
   "outputs": [
    {
     "name": "stdout",
     "output_type": "stream",
     "text": [
      "12552\n",
      "20365\n"
     ]
    },
    {
     "data": {
      "text/html": [
       "<div>\n",
       "<style scoped>\n",
       "    .dataframe tbody tr th:only-of-type {\n",
       "        vertical-align: middle;\n",
       "    }\n",
       "\n",
       "    .dataframe tbody tr th {\n",
       "        vertical-align: top;\n",
       "    }\n",
       "\n",
       "    .dataframe thead th {\n",
       "        text-align: right;\n",
       "    }\n",
       "</style>\n",
       "<table border=\"1\" class=\"dataframe\">\n",
       "  <thead>\n",
       "    <tr style=\"text-align: right;\">\n",
       "      <th></th>\n",
       "      <th>from_acct</th>\n",
       "      <th>from_acct_type</th>\n",
       "      <th>to_acct</th>\n",
       "      <th>to_acct_type</th>\n",
       "      <th>is_self_txn</th>\n",
       "      <th>txn_amt</th>\n",
       "      <th>txn_date</th>\n",
       "      <th>txn_time</th>\n",
       "      <th>currency_type</th>\n",
       "      <th>channel_type</th>\n",
       "    </tr>\n",
       "  </thead>\n",
       "  <tbody>\n",
       "    <tr>\n",
       "      <th>719</th>\n",
       "      <td>73e878a90a6cf282ec5d8ec5f46f848c281db25a85666e...</td>\n",
       "      <td>1</td>\n",
       "      <td>ec184bc0202335de44e78d1ed4f7c9052ade66fcd79b9b...</td>\n",
       "      <td>1</td>\n",
       "      <td>N</td>\n",
       "      <td>30500.0</td>\n",
       "      <td>33</td>\n",
       "      <td>13:00:00</td>\n",
       "      <td>TWD</td>\n",
       "      <td>03</td>\n",
       "    </tr>\n",
       "    <tr>\n",
       "      <th>788</th>\n",
       "      <td>070418cdd5c742f7b1ee369f956bc57022e588b4123f7a...</td>\n",
       "      <td>1</td>\n",
       "      <td>12f2143d1684da5bd8c1547dc20a453750cae71696a4a2...</td>\n",
       "      <td>2</td>\n",
       "      <td>UNK</td>\n",
       "      <td>235.0</td>\n",
       "      <td>55</td>\n",
       "      <td>02:15:00</td>\n",
       "      <td>TWD</td>\n",
       "      <td>03</td>\n",
       "    </tr>\n",
       "    <tr>\n",
       "      <th>949</th>\n",
       "      <td>b93c3ab8bcf54c59dda4241e85764a835fd61237ed03c5...</td>\n",
       "      <td>1</td>\n",
       "      <td>e77ba59964f98c33f252346b6eee683fce59479475553e...</td>\n",
       "      <td>2</td>\n",
       "      <td>UNK</td>\n",
       "      <td>1050.0</td>\n",
       "      <td>48</td>\n",
       "      <td>06:15:00</td>\n",
       "      <td>TWD</td>\n",
       "      <td>03</td>\n",
       "    </tr>\n",
       "    <tr>\n",
       "      <th>1317</th>\n",
       "      <td>d4681448752ef972fc128ec888f459d46121f768bbc6b0...</td>\n",
       "      <td>1</td>\n",
       "      <td>f6adc32d4f60a22fb0d7bd1efbb704d4dc11ade01951a9...</td>\n",
       "      <td>1</td>\n",
       "      <td>N</td>\n",
       "      <td>19500.0</td>\n",
       "      <td>52</td>\n",
       "      <td>22:20:00</td>\n",
       "      <td>TWD</td>\n",
       "      <td>UNK</td>\n",
       "    </tr>\n",
       "    <tr>\n",
       "      <th>1859</th>\n",
       "      <td>d080817d6fb8868a478e0a83e45b82f70ab113135f9cb1...</td>\n",
       "      <td>1</td>\n",
       "      <td>d47df8de5770d392d6a5b4acf9c28051d5e2ed4489e8e0...</td>\n",
       "      <td>2</td>\n",
       "      <td>UNK</td>\n",
       "      <td>4050.0</td>\n",
       "      <td>15</td>\n",
       "      <td>13:40:00</td>\n",
       "      <td>TWD</td>\n",
       "      <td>03</td>\n",
       "    </tr>\n",
       "  </tbody>\n",
       "</table>\n",
       "</div>"
      ],
      "text/plain": [
       "                                              from_acct  from_acct_type  \\\n",
       "719   73e878a90a6cf282ec5d8ec5f46f848c281db25a85666e...               1   \n",
       "788   070418cdd5c742f7b1ee369f956bc57022e588b4123f7a...               1   \n",
       "949   b93c3ab8bcf54c59dda4241e85764a835fd61237ed03c5...               1   \n",
       "1317  d4681448752ef972fc128ec888f459d46121f768bbc6b0...               1   \n",
       "1859  d080817d6fb8868a478e0a83e45b82f70ab113135f9cb1...               1   \n",
       "\n",
       "                                                to_acct  to_acct_type  \\\n",
       "719   ec184bc0202335de44e78d1ed4f7c9052ade66fcd79b9b...             1   \n",
       "788   12f2143d1684da5bd8c1547dc20a453750cae71696a4a2...             2   \n",
       "949   e77ba59964f98c33f252346b6eee683fce59479475553e...             2   \n",
       "1317  f6adc32d4f60a22fb0d7bd1efbb704d4dc11ade01951a9...             1   \n",
       "1859  d47df8de5770d392d6a5b4acf9c28051d5e2ed4489e8e0...             2   \n",
       "\n",
       "     is_self_txn  txn_amt  txn_date  txn_time currency_type channel_type  \n",
       "719            N  30500.0        33  13:00:00           TWD           03  \n",
       "788          UNK    235.0        55  02:15:00           TWD           03  \n",
       "949          UNK   1050.0        48  06:15:00           TWD           03  \n",
       "1317           N  19500.0        52  22:20:00           TWD          UNK  \n",
       "1859         UNK   4050.0        15  13:40:00           TWD           03  "
      ]
     },
     "execution_count": 63,
     "metadata": {},
     "output_type": "execute_result"
    }
   ],
   "source": [
    "Y = pd.read_csv(\"初賽資料/初賽資料/acct_alert.csv\")\n",
    "# 篩選 from_acct 在警示帳戶清單中的交易\n",
    "alert_from = X[X['from_acct'].isin(Y['acct'])]\n",
    "alert_to = X[X['to_acct'].isin(Y['acct'])]\n",
    "\n",
    "print(len(alert_from))\n",
    "print(len(alert_to))\n",
    "\n",
    "alert_from[:5]"
   ]
  },
  {
   "cell_type": "code",
   "execution_count": null,
   "id": "1bec0f60",
   "metadata": {},
   "outputs": [],
   "source": [
    "# 用 merge 保留 to_acct 是警示帳戶的交易\n",
    "alert_to = pd.merge(\n",
    "    X, Y[['acct', 'event_date']],\n",
    "    left_on='to_acct', right_on='acct',\n",
    "    how='inner'\n",
    ")\n",
    "\n",
    "# 計算交易日與警示日的差值\n",
    "alert_to = alert_to[\n",
    "    (alert_to['txn_date'] <= alert_to['event_date']) &\n",
    "    (alert_to['txn_date'] >= alert_to['event_date'] - 5)  # 警示日五天內的交易資料\n",
    "]\n",
    "\n",
    "# 清理欄位\n",
    "alert_to.drop(columns=['acct', 'event_date'], inplace=True)"
   ]
  },
  {
   "cell_type": "code",
   "execution_count": 65,
   "id": "6eaa229c",
   "metadata": {},
   "outputs": [
    {
     "data": {
      "text/html": [
       "<div>\n",
       "<style scoped>\n",
       "    .dataframe tbody tr th:only-of-type {\n",
       "        vertical-align: middle;\n",
       "    }\n",
       "\n",
       "    .dataframe tbody tr th {\n",
       "        vertical-align: top;\n",
       "    }\n",
       "\n",
       "    .dataframe thead th {\n",
       "        text-align: right;\n",
       "    }\n",
       "</style>\n",
       "<table border=\"1\" class=\"dataframe\">\n",
       "  <thead>\n",
       "    <tr style=\"text-align: right;\">\n",
       "      <th></th>\n",
       "      <th>from_acct</th>\n",
       "      <th>from_acct_type</th>\n",
       "      <th>to_acct</th>\n",
       "      <th>to_acct_type</th>\n",
       "      <th>is_self_txn</th>\n",
       "      <th>txn_amt</th>\n",
       "      <th>txn_date</th>\n",
       "      <th>txn_time</th>\n",
       "      <th>currency_type</th>\n",
       "      <th>channel_type</th>\n",
       "    </tr>\n",
       "  </thead>\n",
       "  <tbody>\n",
       "    <tr>\n",
       "      <th>0</th>\n",
       "      <td>a7573bce77b2a7b1a5f9c85b9f33264ef64d65cf5cd166...</td>\n",
       "      <td>2</td>\n",
       "      <td>588673d514f6ed0c358e3c12c9a2ce886fe33852bc75ac...</td>\n",
       "      <td>1</td>\n",
       "      <td>UNK</td>\n",
       "      <td>185.0</td>\n",
       "      <td>112</td>\n",
       "      <td>13:00:00</td>\n",
       "      <td>TWD</td>\n",
       "      <td>UNK</td>\n",
       "    </tr>\n",
       "    <tr>\n",
       "      <th>2</th>\n",
       "      <td>b5d4f29247f8681f4e1d4c7048eff5c1a6ce9ed8402618...</td>\n",
       "      <td>2</td>\n",
       "      <td>f9ae08b23cd655099e089afbb8846d0b4c52ee341d3128...</td>\n",
       "      <td>1</td>\n",
       "      <td>UNK</td>\n",
       "      <td>145000.0</td>\n",
       "      <td>108</td>\n",
       "      <td>16:05:00</td>\n",
       "      <td>TWD</td>\n",
       "      <td>UNK</td>\n",
       "    </tr>\n",
       "    <tr>\n",
       "      <th>6</th>\n",
       "      <td>0ee1a2162737223d63fbe92ca7d39c49b428ed866f7380...</td>\n",
       "      <td>2</td>\n",
       "      <td>26d6aac1d64a44272f6e9188a50f0e00bf22bc70a2e31e...</td>\n",
       "      <td>1</td>\n",
       "      <td>UNK</td>\n",
       "      <td>965.0</td>\n",
       "      <td>55</td>\n",
       "      <td>03:15:00</td>\n",
       "      <td>TWD</td>\n",
       "      <td>UNK</td>\n",
       "    </tr>\n",
       "  </tbody>\n",
       "</table>\n",
       "</div>"
      ],
      "text/plain": [
       "                                           from_acct  from_acct_type  \\\n",
       "0  a7573bce77b2a7b1a5f9c85b9f33264ef64d65cf5cd166...               2   \n",
       "2  b5d4f29247f8681f4e1d4c7048eff5c1a6ce9ed8402618...               2   \n",
       "6  0ee1a2162737223d63fbe92ca7d39c49b428ed866f7380...               2   \n",
       "\n",
       "                                             to_acct  to_acct_type  \\\n",
       "0  588673d514f6ed0c358e3c12c9a2ce886fe33852bc75ac...             1   \n",
       "2  f9ae08b23cd655099e089afbb8846d0b4c52ee341d3128...             1   \n",
       "6  26d6aac1d64a44272f6e9188a50f0e00bf22bc70a2e31e...             1   \n",
       "\n",
       "  is_self_txn   txn_amt  txn_date  txn_time currency_type channel_type  \n",
       "0         UNK     185.0       112  13:00:00           TWD          UNK  \n",
       "2         UNK  145000.0       108  16:05:00           TWD          UNK  \n",
       "6         UNK     965.0        55  03:15:00           TWD          UNK  "
      ]
     },
     "execution_count": 65,
     "metadata": {},
     "output_type": "execute_result"
    }
   ],
   "source": [
    "alert_to[:3]"
   ]
  },
  {
   "cell_type": "code",
   "execution_count": 66,
   "id": "3a809cc2",
   "metadata": {},
   "outputs": [
    {
     "data": {
      "image/png": "[encoded data removed]",
      "text/plain": [
       "<Figure size 640x480 with 1 Axes>"
      ]
     },
     "metadata": {},
     "output_type": "display_data"
    }
   ],
   "source": [
    "sns.boxplot(x=alert_to['txn_amt'])\n",
    "plt.title('money')\n",
    "plt.show()"
   ]
  },
  {
   "cell_type": "code",
   "execution_count": 67,
   "id": "a466e4dd",
   "metadata": {},
   "outputs": [
    {
     "data": {
      "image/png": "[encoded data removed]",
      "text/plain": [
       "<Figure size 640x480 with 1 Axes>"
      ]
     },
     "metadata": {},
     "output_type": "display_data"
    }
   ],
   "source": [
    "alert_to['txn_amt'].hist(bins=100)\n",
    "plt.title('money distribution')\n",
    "plt.xlabel('money')\n",
    "plt.ylabel('event')\n",
    "plt.show()"
   ]
  },
  {
   "cell_type": "code",
   "execution_count": null,
   "id": "2e61b6f0",
   "metadata": {},
   "outputs": [
    {
     "data": {
      "image/png": "[encoded data removed]",
      "text/plain": [
       "<Figure size 800x400 with 2 Axes>"
      ]
     },
     "metadata": {},
     "output_type": "display_data"
    }
   ],
   "source": [
    "import matplotlib.pyplot as plt\n",
    "\n",
    "# 建立畫布與子圖\n",
    "fig, axes = plt.subplots(1, 2, figsize=(8, 4))  # 1 列 2 欄，總寬 12 高 6\n",
    "\n",
    "# 第一個圓餅圖：是否為本人交易\n",
    "X['is_self_txn'].value_counts().plot(\n",
    "    kind='pie',\n",
    "    startangle=90,\n",
    "    ax=axes[0],\n",
    "    title='orignal'\n",
    ")\n",
    "axes[0].set_ylabel('')\n",
    "\n",
    "alert_to['is_self_txn'].value_counts().plot(\n",
    "    kind='pie',\n",
    "    startangle=90,\n",
    "    ax=axes[1],\n",
    "    title='alert'\n",
    ")\n",
    "axes[1].set_ylabel('')\n",
    "\n",
    "# 顯示圖表\n",
    "plt.tight_layout()\n",
    "plt.show()"
   ]
  },
  {
   "cell_type": "code",
   "execution_count": null,
   "id": "a9e2bbce",
   "metadata": {},
   "outputs": [
    {
     "data": {
      "image/png": "[encoded data removed]",
      "text/plain": [
       "<Figure size 800x400 with 2 Axes>"
      ]
     },
     "metadata": {},
     "output_type": "display_data"
    }
   ],
   "source": [
    "import matplotlib.pyplot as plt\n",
    "\n",
    "fig, axes = plt.subplots(1, 2, figsize=(8, 4))\n",
    "\n",
    "X['channel_type'].value_counts().plot(\n",
    "    kind='pie',\n",
    "    startangle=90,\n",
    "    ax=axes[0],\n",
    "    title='orignal'\n",
    ")\n",
    "axes[0].set_ylabel('')\n",
    "\n",
    "alert_to['channel_type'].value_counts().plot(\n",
    "    kind='pie',\n",
    "    startangle=90,\n",
    "    ax=axes[1],\n",
    "    title='alert'\n",
    ")\n",
    "axes[1].set_ylabel('')\n",
    "\n",
    "plt.tight_layout()\n",
    "plt.show()"
   ]
  }
 ],
 "metadata": {
  "kernelspec": {
   "display_name": "DM2025-Lab1-Exercise",
   "language": "python",
   "name": "python3"
  },
  "language_info": {
   "codemirror_mode": {
    "name": "ipython",
    "version": 3
   },
   "file_extension": ".py",
   "mimetype": "text/x-python",
   "name": "python",
   "nbconvert_exporter": "python",
   "pygments_lexer": "ipython3",
   "version": "3.11.0"
  }
 },
 "nbformat": 4,
 "nbformat_minor": 5
}
